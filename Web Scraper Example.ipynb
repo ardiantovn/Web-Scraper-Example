{
 "cells": [
  {
   "cell_type": "markdown",
   "metadata": {},
   "source": [
    "<h1><center>CODE</center></h1>"
   ]
  },
  {
   "cell_type": "code",
   "execution_count": 34,
   "metadata": {},
   "outputs": [
    {
     "data": {
      "text/html": [
       "<div>\n",
       "<style scoped>\n",
       "    .dataframe tbody tr th:only-of-type {\n",
       "        vertical-align: middle;\n",
       "    }\n",
       "\n",
       "    .dataframe tbody tr th {\n",
       "        vertical-align: top;\n",
       "    }\n",
       "\n",
       "    .dataframe thead th {\n",
       "        text-align: right;\n",
       "    }\n",
       "</style>\n",
       "<table border=\"1\" class=\"dataframe\">\n",
       "  <thead>\n",
       "    <tr style=\"text-align: right;\">\n",
       "      <th></th>\n",
       "      <th>title</th>\n",
       "      <th>price</th>\n",
       "      <th>desc</th>\n",
       "    </tr>\n",
       "  </thead>\n",
       "  <tbody>\n",
       "    <tr>\n",
       "      <th>0</th>\n",
       "      <td>Dell Inspiron 15 (7567) Black</td>\n",
       "      <td>$1098.42</td>\n",
       "      <td>Dell Inspiron 15 (7567) Black, 15.6\" FHD, Core i5-7300HQ, 8GB, 256GB SSD, GeForce GTX 1050 4GB, Windows 10 Home</td>\n",
       "    </tr>\n",
       "    <tr>\n",
       "      <th>1</th>\n",
       "      <td>Acer Extensa 15 (2540) Black</td>\n",
       "      <td>$439.73</td>\n",
       "      <td>Acer Extensa 15 (2540) Black, 15.6\" HD, Core i5-7200U, 4GB, 500GB, Linux</td>\n",
       "    </tr>\n",
       "    <tr>\n",
       "      <th>2</th>\n",
       "      <td>Dell Latitude 5580</td>\n",
       "      <td>$1144.40</td>\n",
       "      <td>Dell Latitude 5580, 15.6\" FHD, Core i5-7300U, 8GB, 256GB SSD, Windows 10 Pro</td>\n",
       "    </tr>\n",
       "  </tbody>\n",
       "</table>\n",
       "</div>"
      ],
      "text/plain": [
       "                           title     price  \\\n",
       "0  Dell Inspiron 15 (7567) Black  $1098.42   \n",
       "1  Acer Extensa 15 (2540) Black   $439.73    \n",
       "2  Dell Latitude 5580             $1144.40   \n",
       "\n",
       "                                                                                                              desc  \n",
       "0  Dell Inspiron 15 (7567) Black, 15.6\" FHD, Core i5-7300HQ, 8GB, 256GB SSD, GeForce GTX 1050 4GB, Windows 10 Home  \n",
       "1  Acer Extensa 15 (2540) Black, 15.6\" HD, Core i5-7200U, 4GB, 500GB, Linux                                         \n",
       "2  Dell Latitude 5580, 15.6\" FHD, Core i5-7300U, 8GB, 256GB SSD, Windows 10 Pro                                     "
      ]
     },
     "execution_count": 34,
     "metadata": {},
     "output_type": "execute_result"
    }
   ],
   "source": [
    "from requests import get\n",
    "from requests.exceptions import RequestException\n",
    "from contextlib import closing\n",
    "from bs4 import BeautifulSoup\n",
    "import pandas as pd\n",
    "pd.set_option('display.max_colwidth', -1)\n",
    "\n",
    "url='https://www.webscraper.io/test-sites/e-commerce/allinone/computers'\n",
    "r = requests.get(url)\n",
    "soup = BeautifulSoup(r.content, 'html.parser')\n",
    "\n",
    "#FIND CONTAINER\n",
    "a=soup.find(class_='col-md-9')\n",
    "\n",
    "#GET ITEM TITLE\n",
    "title=[i[\"title\"] for i in a.select(\".row .title\")]\n",
    "\n",
    "#GET ITEM PRICE\n",
    "price=[i.get_text() for i in a.select(\".row .caption .pull-right\")]\n",
    "\n",
    "#GET ITEM DESCRIPTION\n",
    "desc=[i.get_text() for i in a.select(\".row .description\")]\n",
    "\n",
    "#CREATE DATAFRAME\n",
    "df=pd.DataFrame({\n",
    "    \"title\":title,\n",
    "    \"price\":price,\n",
    "    'desc':desc\n",
    "})\n",
    "df"
   ]
  }
 ],
 "metadata": {
  "kernelspec": {
   "display_name": "Python 3",
   "language": "python",
   "name": "python3"
  },
  "language_info": {
   "codemirror_mode": {
    "name": "ipython",
    "version": 3
   },
   "file_extension": ".py",
   "mimetype": "text/x-python",
   "name": "python",
   "nbconvert_exporter": "python",
   "pygments_lexer": "ipython3",
   "version": "3.7.3"
  }
 },
 "nbformat": 4,
 "nbformat_minor": 2
}
